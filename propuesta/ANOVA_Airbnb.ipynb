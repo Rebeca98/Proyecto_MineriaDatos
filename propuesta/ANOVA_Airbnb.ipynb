{
 "cells": [
  {
   "cell_type": "markdown",
   "id": "e62a9a54",
   "metadata": {},
   "source": [
    "# ANOVA\n",
    "ANOVA helps us understand and compare variances among groups.\n",
    "\n",
    "When we compare two samples (or groups), we can use t-test to see if there is any difference in means of groups.When we have more than two groups, t-test is not the optimal choice because we need to apply t-test to pairs separately. In the case of comparing three or more groups, ANOVA is preferred. \n",
    "\n",
    "There are two elements of ANOVA:\n",
    "\n",
    "    Variation within each group\n",
    "    Variation between groups\n",
    "    \n",
    "ANOVA test result is based on F ratio which is the ratio of the variation between groups to the variation within groups."
   ]
  },
  {
   "cell_type": "code",
   "execution_count": null,
   "id": "596e3bcc",
   "metadata": {},
   "outputs": [],
   "source": []
  }
 ],
 "metadata": {
  "kernelspec": {
   "display_name": "Python 3 (ipykernel)",
   "language": "python",
   "name": "python3"
  },
  "language_info": {
   "codemirror_mode": {
    "name": "ipython",
    "version": 3
   },
   "file_extension": ".py",
   "mimetype": "text/x-python",
   "name": "python",
   "nbconvert_exporter": "python",
   "pygments_lexer": "ipython3",
   "version": "3.9.6"
  }
 },
 "nbformat": 4,
 "nbformat_minor": 5
}
