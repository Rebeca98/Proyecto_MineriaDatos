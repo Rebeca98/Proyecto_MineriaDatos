{
 "cells": [
  {
   "cell_type": "markdown",
   "metadata": {},
   "source": [
    "# Introduction to geospatial vector data in Python"
   ]
  },
  {
   "cell_type": "code",
   "execution_count": 2,
   "metadata": {},
   "outputs": [],
   "source": [
    "%matplotlib inline\n",
    "\n",
    "import pandas as pd\n",
    "import geopandas as gpd\n",
    "\n",
    "pd.options.display.max_rows = 10"
   ]
  },
  {
   "cell_type": "code",
   "execution_count": 3,
   "metadata": {},
   "outputs": [],
   "source": [
    "from shapely.geometry import Point, Polygon, LineString\n",
    "import pandas as pd\n",
    "import numpy as np"
   ]
  },
  {
   "cell_type": "code",
   "execution_count": 4,
   "metadata": {},
   "outputs": [
    {
     "data": {
      "text/plain": [
       "Index(['id', 'listing_url', 'scrape_id', 'last_scraped', 'name', 'description',\n",
       "       'neighborhood_overview', 'picture_url', 'host_id', 'host_url',\n",
       "       'host_name', 'host_since', 'host_location', 'host_about',\n",
       "       'host_response_time', 'host_response_rate', 'host_acceptance_rate',\n",
       "       'host_is_superhost', 'host_thumbnail_url', 'host_picture_url',\n",
       "       'host_neighbourhood', 'host_listings_count',\n",
       "       'host_total_listings_count', 'host_verifications',\n",
       "       'host_has_profile_pic', 'host_identity_verified', 'neighbourhood',\n",
       "       'neighbourhood_cleansed', 'neighbourhood_group_cleansed', 'latitude',\n",
       "       'longitude', 'property_type', 'room_type', 'accommodates', 'bathrooms',\n",
       "       'bathrooms_text', 'bedrooms', 'beds', 'amenities', 'price',\n",
       "       'minimum_nights', 'maximum_nights', 'minimum_minimum_nights',\n",
       "       'maximum_minimum_nights', 'minimum_maximum_nights',\n",
       "       'maximum_maximum_nights', 'minimum_nights_avg_ntm',\n",
       "       'maximum_nights_avg_ntm', 'calendar_updated', 'has_availability',\n",
       "       'availability_30', 'availability_60', 'availability_90',\n",
       "       'availability_365', 'calendar_last_scraped', 'number_of_reviews',\n",
       "       'number_of_reviews_ltm', 'number_of_reviews_l30d', 'first_review',\n",
       "       'last_review', 'review_scores_rating', 'review_scores_accuracy',\n",
       "       'review_scores_cleanliness', 'review_scores_checkin',\n",
       "       'review_scores_communication', 'review_scores_location',\n",
       "       'review_scores_value', 'license', 'instant_bookable',\n",
       "       'calculated_host_listings_count',\n",
       "       'calculated_host_listings_count_entire_homes',\n",
       "       'calculated_host_listings_count_private_rooms',\n",
       "       'calculated_host_listings_count_shared_rooms', 'reviews_per_month'],\n",
       "      dtype='object')"
      ]
     },
     "execution_count": 4,
     "metadata": {},
     "output_type": "execute_result"
    }
   ],
   "source": [
    "Airbnb_data = pd.read_csv('LosAngeles/listings_2.csv')\n",
    "Airbnb_data.columns"
   ]
  },
  {
   "cell_type": "code",
   "execution_count": 8,
   "metadata": {},
   "outputs": [],
   "source": [
    "new_Airbnb_data= Airbnb_data[['latitude','longitude']]\n",
    "new_Airbnb_data.latitude\n",
    "latitude = list(new_Airbnb_data.latitude)\n",
    "longitude = list(new_Airbnb_data.longitude)"
   ]
  },
  {
   "cell_type": "markdown",
   "metadata": {},
   "source": [
    "### Constructing a GeoDataFrame manually"
   ]
  },
  {
   "cell_type": "code",
   "execution_count": 36,
   "metadata": {},
   "outputs": [
    {
     "data": {
      "text/plain": [
       "0       -118.384940\n",
       "1       -118.346020\n",
       "2       -118.480950\n",
       "3       -118.113970\n",
       "4       -118.382270\n",
       "            ...    \n",
       "32235   -118.242780\n",
       "32236   -118.299250\n",
       "32237   -118.363189\n",
       "32238   -118.442377\n",
       "32239   -118.444261\n",
       "Name: longitude, Length: 32240, dtype: float64"
      ]
     },
     "execution_count": 36,
     "metadata": {},
     "output_type": "execute_result"
    }
   ],
   "source": [
    "new_Airbnb_data.longitude"
   ]
  },
  {
   "cell_type": "markdown",
   "metadata": {},
   "source": [
    "### Creating a GeoDataFrame from an existing dataframe\n",
    "\n",
    "For example, if you have lat/lon coordinates in two columns:"
   ]
  },
  {
   "cell_type": "code",
   "execution_count": 9,
   "metadata": {},
   "outputs": [],
   "source": [
    "df = pd.DataFrame(\n",
    "    {'Latitude': latitude,\n",
    "     'Longitude': longitude\n",
    "    })"
   ]
  },
  {
   "cell_type": "code",
   "execution_count": 12,
   "metadata": {},
   "outputs": [
    {
     "data": {
      "text/html": [
       "<div>\n",
       "<style scoped>\n",
       "    .dataframe tbody tr th:only-of-type {\n",
       "        vertical-align: middle;\n",
       "    }\n",
       "\n",
       "    .dataframe tbody tr th {\n",
       "        vertical-align: top;\n",
       "    }\n",
       "\n",
       "    .dataframe thead th {\n",
       "        text-align: right;\n",
       "    }\n",
       "</style>\n",
       "<table border=\"1\" class=\"dataframe\">\n",
       "  <thead>\n",
       "    <tr style=\"text-align: right;\">\n",
       "      <th></th>\n",
       "      <th>Latitude</th>\n",
       "      <th>Longitude</th>\n",
       "    </tr>\n",
       "  </thead>\n",
       "  <tbody>\n",
       "    <tr>\n",
       "      <th>0</th>\n",
       "      <td>33.982090</td>\n",
       "      <td>-118.384940</td>\n",
       "    </tr>\n",
       "    <tr>\n",
       "      <th>1</th>\n",
       "      <td>34.097680</td>\n",
       "      <td>-118.346020</td>\n",
       "    </tr>\n",
       "    <tr>\n",
       "      <th>2</th>\n",
       "      <td>34.004400</td>\n",
       "      <td>-118.480950</td>\n",
       "    </tr>\n",
       "    <tr>\n",
       "      <th>3</th>\n",
       "      <td>33.876190</td>\n",
       "      <td>-118.113970</td>\n",
       "    </tr>\n",
       "    <tr>\n",
       "      <th>4</th>\n",
       "      <td>34.111320</td>\n",
       "      <td>-118.382270</td>\n",
       "    </tr>\n",
       "    <tr>\n",
       "      <th>...</th>\n",
       "      <td>...</td>\n",
       "      <td>...</td>\n",
       "    </tr>\n",
       "    <tr>\n",
       "      <th>32235</th>\n",
       "      <td>34.051235</td>\n",
       "      <td>-118.242780</td>\n",
       "    </tr>\n",
       "    <tr>\n",
       "      <th>32236</th>\n",
       "      <td>34.107436</td>\n",
       "      <td>-118.299250</td>\n",
       "    </tr>\n",
       "    <tr>\n",
       "      <th>32237</th>\n",
       "      <td>34.081900</td>\n",
       "      <td>-118.363189</td>\n",
       "    </tr>\n",
       "    <tr>\n",
       "      <th>32238</th>\n",
       "      <td>34.060280</td>\n",
       "      <td>-118.442377</td>\n",
       "    </tr>\n",
       "    <tr>\n",
       "      <th>32239</th>\n",
       "      <td>34.062277</td>\n",
       "      <td>-118.444261</td>\n",
       "    </tr>\n",
       "  </tbody>\n",
       "</table>\n",
       "<p>32240 rows × 2 columns</p>\n",
       "</div>"
      ],
      "text/plain": [
       "        Latitude   Longitude\n",
       "0      33.982090 -118.384940\n",
       "1      34.097680 -118.346020\n",
       "2      34.004400 -118.480950\n",
       "3      33.876190 -118.113970\n",
       "4      34.111320 -118.382270\n",
       "...          ...         ...\n",
       "32235  34.051235 -118.242780\n",
       "32236  34.107436 -118.299250\n",
       "32237  34.081900 -118.363189\n",
       "32238  34.060280 -118.442377\n",
       "32239  34.062277 -118.444261\n",
       "\n",
       "[32240 rows x 2 columns]"
      ]
     },
     "execution_count": 12,
     "metadata": {},
     "output_type": "execute_result"
    }
   ],
   "source": [
    "df"
   ]
  },
  {
   "cell_type": "code",
   "execution_count": 38,
   "metadata": {},
   "outputs": [],
   "source": [
    "df['Coordinates']  = list(zip(df.Latitude,df.Longitude))"
   ]
  },
  {
   "cell_type": "code",
   "execution_count": 39,
   "metadata": {},
   "outputs": [],
   "source": [
    "df['Coordinates'] = df['Coordinates'].apply(Point)"
   ]
  },
  {
   "cell_type": "code",
   "execution_count": 40,
   "metadata": {},
   "outputs": [],
   "source": [
    "gdf = geopandas.GeoDataFrame(df, geometry='Coordinates')"
   ]
  },
  {
   "cell_type": "code",
   "execution_count": 41,
   "metadata": {},
   "outputs": [
    {
     "data": {
      "text/html": [
       "<div>\n",
       "<style scoped>\n",
       "    .dataframe tbody tr th:only-of-type {\n",
       "        vertical-align: middle;\n",
       "    }\n",
       "\n",
       "    .dataframe tbody tr th {\n",
       "        vertical-align: top;\n",
       "    }\n",
       "\n",
       "    .dataframe thead th {\n",
       "        text-align: right;\n",
       "    }\n",
       "</style>\n",
       "<table border=\"1\" class=\"dataframe\">\n",
       "  <thead>\n",
       "    <tr style=\"text-align: right;\">\n",
       "      <th></th>\n",
       "      <th>Latitude</th>\n",
       "      <th>Longitude</th>\n",
       "      <th>Coordinates</th>\n",
       "    </tr>\n",
       "  </thead>\n",
       "  <tbody>\n",
       "    <tr>\n",
       "      <th>0</th>\n",
       "      <td>33.982090</td>\n",
       "      <td>-118.384940</td>\n",
       "      <td>POINT (33.982 -118.385)</td>\n",
       "    </tr>\n",
       "    <tr>\n",
       "      <th>1</th>\n",
       "      <td>34.097680</td>\n",
       "      <td>-118.346020</td>\n",
       "      <td>POINT (34.098 -118.346)</td>\n",
       "    </tr>\n",
       "    <tr>\n",
       "      <th>2</th>\n",
       "      <td>34.004400</td>\n",
       "      <td>-118.480950</td>\n",
       "      <td>POINT (34.004 -118.481)</td>\n",
       "    </tr>\n",
       "    <tr>\n",
       "      <th>3</th>\n",
       "      <td>33.876190</td>\n",
       "      <td>-118.113970</td>\n",
       "      <td>POINT (33.876 -118.114)</td>\n",
       "    </tr>\n",
       "    <tr>\n",
       "      <th>4</th>\n",
       "      <td>34.111320</td>\n",
       "      <td>-118.382270</td>\n",
       "      <td>POINT (34.111 -118.382)</td>\n",
       "    </tr>\n",
       "    <tr>\n",
       "      <th>...</th>\n",
       "      <td>...</td>\n",
       "      <td>...</td>\n",
       "      <td>...</td>\n",
       "    </tr>\n",
       "    <tr>\n",
       "      <th>32235</th>\n",
       "      <td>34.051235</td>\n",
       "      <td>-118.242780</td>\n",
       "      <td>POINT (34.051 -118.243)</td>\n",
       "    </tr>\n",
       "    <tr>\n",
       "      <th>32236</th>\n",
       "      <td>34.107436</td>\n",
       "      <td>-118.299250</td>\n",
       "      <td>POINT (34.107 -118.299)</td>\n",
       "    </tr>\n",
       "    <tr>\n",
       "      <th>32237</th>\n",
       "      <td>34.081900</td>\n",
       "      <td>-118.363189</td>\n",
       "      <td>POINT (34.082 -118.363)</td>\n",
       "    </tr>\n",
       "    <tr>\n",
       "      <th>32238</th>\n",
       "      <td>34.060280</td>\n",
       "      <td>-118.442377</td>\n",
       "      <td>POINT (34.060 -118.442)</td>\n",
       "    </tr>\n",
       "    <tr>\n",
       "      <th>32239</th>\n",
       "      <td>34.062277</td>\n",
       "      <td>-118.444261</td>\n",
       "      <td>POINT (34.062 -118.444)</td>\n",
       "    </tr>\n",
       "  </tbody>\n",
       "</table>\n",
       "<p>32240 rows × 3 columns</p>\n",
       "</div>"
      ],
      "text/plain": [
       "        Latitude   Longitude              Coordinates\n",
       "0      33.982090 -118.384940  POINT (33.982 -118.385)\n",
       "1      34.097680 -118.346020  POINT (34.098 -118.346)\n",
       "2      34.004400 -118.480950  POINT (34.004 -118.481)\n",
       "3      33.876190 -118.113970  POINT (33.876 -118.114)\n",
       "4      34.111320 -118.382270  POINT (34.111 -118.382)\n",
       "...          ...         ...                      ...\n",
       "32235  34.051235 -118.242780  POINT (34.051 -118.243)\n",
       "32236  34.107436 -118.299250  POINT (34.107 -118.299)\n",
       "32237  34.081900 -118.363189  POINT (34.082 -118.363)\n",
       "32238  34.060280 -118.442377  POINT (34.060 -118.442)\n",
       "32239  34.062277 -118.444261  POINT (34.062 -118.444)\n",
       "\n",
       "[32240 rows x 3 columns]"
      ]
     },
     "execution_count": 41,
     "metadata": {},
     "output_type": "execute_result"
    }
   ],
   "source": [
    "gdf"
   ]
  },
  {
   "cell_type": "code",
   "execution_count": 42,
   "metadata": {},
   "outputs": [
    {
     "data": {
      "text/plain": [
       "geopandas.geodataframe.GeoDataFrame"
      ]
     },
     "execution_count": 42,
     "metadata": {},
     "output_type": "execute_result"
    }
   ],
   "source": [
    "type(gdf)"
   ]
  },
  {
   "cell_type": "code",
   "execution_count": 44,
   "metadata": {},
   "outputs": [
    {
     "data": {
      "text/plain": [
       "<AxesSubplot:>"
      ]
     },
     "execution_count": 44,
     "metadata": {},
     "output_type": "execute_result"
    },
    {
     "data": {
      "image/png": "[encoded data removed]",
      "text/plain": [
       "<Figure size 720x720 with 1 Axes>"
      ]
     },
     "metadata": {
      "needs_background": "light"
     },
     "output_type": "display_data"
    }
   ],
   "source": [
    "gdf.plot(figsize=(10, 10))"
   ]
  },
  {
   "cell_type": "code",
   "execution_count": 56,
   "metadata": {},
   "outputs": [],
   "source": [
    "shapefile = gpd.read_file(\"LosAngeles/LA_County_City_Boundaries/LA_County_City_Boundaries.shp\")\n",
    "shapefile_LA = shapefile[shapefile['CITY_NAME']=='Los Angeles']"
   ]
  },
  {
   "cell_type": "code",
   "execution_count": 55,
   "metadata": {},
   "outputs": [
    {
     "data": {
      "text/plain": [
       "0      Unincorporated\n",
       "1         Los Angeles\n",
       "2         Los Angeles\n",
       "3         Los Angeles\n",
       "4      Unincorporated\n",
       "            ...      \n",
       "313            Malibu\n",
       "314       Los Angeles\n",
       "315    Unincorporated\n",
       "316    Unincorporated\n",
       "317       Los Angeles\n",
       "Name: CITY_NAME, Length: 318, dtype: object"
      ]
     },
     "execution_count": 55,
     "metadata": {},
     "output_type": "execute_result"
    }
   ],
   "source": [
    "shapefile.CITY_NAME"
   ]
  },
  {
   "cell_type": "code",
   "execution_count": 57,
   "metadata": {},
   "outputs": [
    {
     "data": {
      "text/plain": [
       "<AxesSubplot:>"
      ]
     },
     "execution_count": 57,
     "metadata": {},
     "output_type": "execute_result"
    },
    {
     "data": {
      "image/png": "[encoded data removed]",
      "text/plain": [
       "<Figure size 720x720 with 1 Axes>"
      ]
     },
     "metadata": {
      "needs_background": "light"
     },
     "output_type": "display_data"
    }
   ],
   "source": [
    "shapefile_LA.plot(figsize=(10, 10))"
   ]
  },
  {
   "cell_type": "code",
   "execution_count": 15,
   "metadata": {},
   "outputs": [],
   "source": [
    "Airbnb_data = pd.read_csv('LosAngeles/listings_2.csv')\n",
    "Airbnb_data['price'] = Airbnb_data['price'].replace('[\\$,]', '', regex=True).astype(float)"
   ]
  },
  {
   "cell_type": "code",
   "execution_count": 16,
   "metadata": {},
   "outputs": [
    {
     "data": {
      "text/html": [
       "<div>\n",
       "<style scoped>\n",
       "    .dataframe tbody tr th:only-of-type {\n",
       "        vertical-align: middle;\n",
       "    }\n",
       "\n",
       "    .dataframe tbody tr th {\n",
       "        vertical-align: top;\n",
       "    }\n",
       "\n",
       "    .dataframe thead th {\n",
       "        text-align: right;\n",
       "    }\n",
       "</style>\n",
       "<table border=\"1\" class=\"dataframe\">\n",
       "  <thead>\n",
       "    <tr style=\"text-align: right;\">\n",
       "      <th></th>\n",
       "      <th>latitude</th>\n",
       "      <th>longitude</th>\n",
       "    </tr>\n",
       "  </thead>\n",
       "  <tbody>\n",
       "    <tr>\n",
       "      <th>0</th>\n",
       "      <td>33.982090</td>\n",
       "      <td>-118.384940</td>\n",
       "    </tr>\n",
       "    <tr>\n",
       "      <th>1</th>\n",
       "      <td>34.097680</td>\n",
       "      <td>-118.346020</td>\n",
       "    </tr>\n",
       "    <tr>\n",
       "      <th>2</th>\n",
       "      <td>34.004400</td>\n",
       "      <td>-118.480950</td>\n",
       "    </tr>\n",
       "    <tr>\n",
       "      <th>3</th>\n",
       "      <td>33.876190</td>\n",
       "      <td>-118.113970</td>\n",
       "    </tr>\n",
       "    <tr>\n",
       "      <th>4</th>\n",
       "      <td>34.111320</td>\n",
       "      <td>-118.382270</td>\n",
       "    </tr>\n",
       "    <tr>\n",
       "      <th>...</th>\n",
       "      <td>...</td>\n",
       "      <td>...</td>\n",
       "    </tr>\n",
       "    <tr>\n",
       "      <th>32235</th>\n",
       "      <td>34.051235</td>\n",
       "      <td>-118.242780</td>\n",
       "    </tr>\n",
       "    <tr>\n",
       "      <th>32236</th>\n",
       "      <td>34.107436</td>\n",
       "      <td>-118.299250</td>\n",
       "    </tr>\n",
       "    <tr>\n",
       "      <th>32237</th>\n",
       "      <td>34.081900</td>\n",
       "      <td>-118.363189</td>\n",
       "    </tr>\n",
       "    <tr>\n",
       "      <th>32238</th>\n",
       "      <td>34.060280</td>\n",
       "      <td>-118.442377</td>\n",
       "    </tr>\n",
       "    <tr>\n",
       "      <th>32239</th>\n",
       "      <td>34.062277</td>\n",
       "      <td>-118.444261</td>\n",
       "    </tr>\n",
       "  </tbody>\n",
       "</table>\n",
       "<p>32240 rows × 2 columns</p>\n",
       "</div>"
      ],
      "text/plain": [
       "        latitude   longitude\n",
       "0      33.982090 -118.384940\n",
       "1      34.097680 -118.346020\n",
       "2      34.004400 -118.480950\n",
       "3      33.876190 -118.113970\n",
       "4      34.111320 -118.382270\n",
       "...          ...         ...\n",
       "32235  34.051235 -118.242780\n",
       "32236  34.107436 -118.299250\n",
       "32237  34.081900 -118.363189\n",
       "32238  34.060280 -118.442377\n",
       "32239  34.062277 -118.444261\n",
       "\n",
       "[32240 rows x 2 columns]"
      ]
     },
     "execution_count": 16,
     "metadata": {},
     "output_type": "execute_result"
    }
   ],
   "source": [
    "df = new_Airbnb_data[[\"latitude\",\"longitude\"]]\n",
    "df"
   ]
  },
  {
   "cell_type": "code",
   "execution_count": null,
   "metadata": {},
   "outputs": [],
   "source": [
    "import geopandas as gpd\n",
    "import geoplot as gplt\n",
    "import geoplot.crs as gcrs\n",
    "import matplotlib.pyplot as plt\n",
    "import mplleaflet\n",
    "\n",
    "boston_airbnb_listings = gpd.read_file(gplt.datasets.get_path('boston_airbnb_listings'))\n",
    "\n",
    "ax = gplt.kdeplot(\n",
    "    boston_airbnb_listings, cmap='viridis', projection=gcrs.WebMercator(), figsize=(12, 12),\n",
    "    shade=True\n",
    ")\n",
    "gplt.pointplot(boston_airbnb_listings, s=1, color='black', ax=ax)\n",
    "gplt.webmap(boston_airbnb_listings, ax=ax)\n",
    "plt.title('Boston AirBnB Locations, 2016', fontsize=18)\n",
    "\n",
    "fig = plt.gcf()\n",
    "plt.savefig(\"boston-airbnb-kde.png\", bbox_inches='tight', pad_inches=0.1)\n",
    "# mplleaflet.show(fig)"
   ]
  }
 ],
 "metadata": {
  "kernelspec": {
   "display_name": "Python 3 (ipykernel)",
   "language": "python",
   "name": "python3"
  },
  "language_info": {
   "codemirror_mode": {
    "name": "ipython",
    "version": 3
   },
   "file_extension": ".py",
   "mimetype": "text/x-python",
   "name": "python",
   "nbconvert_exporter": "python",
   "pygments_lexer": "ipython3",
   "version": "3.9.6"
  }
 },
 "nbformat": 4,
 "nbformat_minor": 2
}
